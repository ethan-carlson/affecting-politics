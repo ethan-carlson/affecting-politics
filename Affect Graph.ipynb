{
 "cells": [
  {
   "cell_type": "code",
   "execution_count": null,
   "metadata": {},
   "outputs": [],
   "source": [
    "# load libraries\n",
    "%matplotlib inline\n",
    "import pandas as pd\n",
    "import numpy as np\n",
    "import matplotlib.pyplot as plt\n",
    "import seaborn as sns\n",
    "import time\n",
    "import os\n",
    "import statistics as stats\n",
    "import math\n",
    "import glob\n",
    "import imageio"
   ]
  },
  {
   "cell_type": "code",
   "execution_count": null,
   "metadata": {},
   "outputs": [],
   "source": [
    "df = pd.read_csv(\"rep_affect.csv\", header=0)\n",
    "df.head()"
   ]
  },
  {
   "cell_type": "code",
   "execution_count": null,
   "metadata": {},
   "outputs": [],
   "source": [
    "def normalize(colname):\n",
    "    mode = stats.mode(df[colname].values)\n",
    "    stdev = stats.stdev(df[colname].values)\n",
    "    df[colname] = (df[colname] - mode)/stdev"
   ]
  },
  {
   "cell_type": "code",
   "execution_count": null,
   "metadata": {},
   "outputs": [],
   "source": [
    "#Is normalizing the best idea?  Destroys the relativity of the values\n",
    "\n",
    "normalize(\"joy\")\n",
    "normalize(\"disgust\")\n",
    "normalize(\"engagement\")\n",
    "normalize(\"valence\")\n",
    "df.head()"
   ]
  },
  {
   "cell_type": "code",
   "execution_count": null,
   "metadata": {},
   "outputs": [],
   "source": [
    "avg_secs = 5\n",
    "sec_divisions = 4\n",
    "\n",
    "times = []\n",
    "engage = []\n",
    "valence = []\n",
    "joy = []\n",
    "disgust = []\n",
    "for i in range(math.floor(min(df[\"time_stamp\"])), (sec_divisions*math.floor(max(df[\"time_stamp\"])))):\n",
    "    rows = df['time_stamp'].between((i/sec_divisions)-avg_secs, i/sec_divisions)\n",
    "    temp1 = []\n",
    "    temp2 = []\n",
    "    temp3 = []\n",
    "    temp5 = []\n",
    "    for j in rows.index:\n",
    "        if rows[j]:\n",
    "            temp1.append(df.at[j,'time_stamp'])\n",
    "            temp2.append(df.at[j,'engagement'])\n",
    "            temp3.append(df.at[j,'valence'])\n",
    "            temp5.append(df.at[j,'disgust'])\n",
    "    try:\n",
    "        times.append(stats.mean(temp1))\n",
    "        engage.append(stats.mean(temp2))\n",
    "        valence.append(stats.mean(temp3))\n",
    "        disgust.append(stats.mean(temp5))\n",
    "    except:\n",
    "        continue"
   ]
  },
  {
   "cell_type": "code",
   "execution_count": null,
   "metadata": {},
   "outputs": [],
   "source": [
    "plt.plot(times, engage)\n",
    "plt.plot(times, valence)\n",
    "plt.plot(times, disgust)\n",
    "#plt.ylim(-3, 3)"
   ]
  },
  {
   "cell_type": "code",
   "execution_count": null,
   "metadata": {},
   "outputs": [],
   "source": [
    "for i in range(len(times)):\n",
    "    fig, ax = plt.subplots()\n",
    "    ax.set_title('Subject Facial Affect', fontdict={'fontsize': '18', 'fontweight' : '3',}, loc='left')\n",
    "    plt.xlabel('Seconds')\n",
    "    #plt.ylim(-3, 3)\n",
    "    if i < (30*sec_divisions):\n",
    "        plt.plot(times[:i],engage[:i], label = 'Engagement')\n",
    "        plt.plot(times[:i],valence[:i], label = 'Valence')\n",
    "        plt.plot(times[:i],disgust[:i], label = 'Disgust')\n",
    "    else:\n",
    "        plt.plot(times[i-(30*sec_divisions):i],engage[i-(30*sec_divisions):i], label = 'Engagement')\n",
    "        plt.plot(times[i-(30*sec_divisions):i],valence[i-(30*sec_divisions):i], label = 'Valence')\n",
    "        plt.plot(times[i-(30*sec_divisions):i],disgust[i-(30*sec_divisions):i], label = 'Disgust')\n",
    "    plt.legend()\n",
    "    fig.savefig('Take_5_rep/'+str(i)+'.png', dpi=100)"
   ]
  },
  {
   "cell_type": "code",
   "execution_count": null,
   "metadata": {},
   "outputs": [],
   "source": [
    "curr_dir = os.getcwd()\n",
    "duration = 1/sec_divisions\n",
    "images = []\n",
    "for i in range(len(times)):\n",
    "    filename = curr_dir+\"/Take_5_rep\"+\"/\"+str(i)+\".png\"\n",
    "    images.append(imageio.imread(filename))\n",
    "output_file = 'Take5_rep.gif'\n",
    "imageio.mimsave(output_file, images, duration=duration)"
   ]
  },
  {
   "cell_type": "code",
   "execution_count": null,
   "metadata": {},
   "outputs": [],
   "source": []
  }
 ],
 "metadata": {
  "kernelspec": {
   "display_name": "Python 3",
   "language": "python",
   "name": "python3"
  },
  "language_info": {
   "codemirror_mode": {
    "name": "ipython",
    "version": 3
   },
   "file_extension": ".py",
   "mimetype": "text/x-python",
   "name": "python",
   "nbconvert_exporter": "python",
   "pygments_lexer": "ipython3",
   "version": "3.7.4"
  }
 },
 "nbformat": 4,
 "nbformat_minor": 2
}
